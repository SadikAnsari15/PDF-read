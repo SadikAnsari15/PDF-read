{
 "cells": [
  {
   "cell_type": "markdown",
   "id": "bb91f62b-076a-41ce-aa6c-41104cdbd648",
   "metadata": {},
   "source": [
    "#  'COLOMBARI',\n"
   ]
  },
  {
   "cell_type": "code",
   "execution_count": 2,
   "id": "5fc84033-51b4-4ec4-bf2f-3083debbf5e6",
   "metadata": {},
   "outputs": [
    {
     "name": "stdout",
     "output_type": "stream",
     "text": [
      "Extracted Text:\n",
      "U K DRIVING LICENCE\n",
      "\n",
      "COLOMBARI\n",
      "MR SAMUEL CHARLES\n",
      "\n",
      "20.02.1998 UNITED KINGDOM\n",
      "08.02.2022 4c. DVLA\n",
      "07.02.2027\n",
      "COLOM902208SC9BH 33\n",
      "\n",
      "Seu\n",
      "\n",
      "25 SOUTHGATE, HORNSEA, HU18 1RE\n",
      "\n",
      "AM/B/C 1/D 1/D/BE/D1E/DE/f/k/q\n",
      "\n",
      "\n"
     ]
    }
   ],
   "source": [
    "import pytesseract\n",
    "from PIL import Image\n",
    "\n",
    "# Ensure that Tesseract is correctly installed and the path is set (for Windows)\n",
    "pytesseract.pytesseract.tesseract_cmd = r'C:\\Program Files\\Tesseract-OCR\\tesseract.exe'  # Update path as needed\n",
    "\n",
    "# Function to extract text from an image\n",
    "def extract_text_from_image(image):\n",
    "    try:\n",
    "        # Extract text using pytesseract\n",
    "        text = pytesseract.image_to_string(image)\n",
    "        return text\n",
    "    except Exception as e:\n",
    "        return f\"Error extracting text: {str(e)}\"\n",
    "\n",
    "# Path to the local image file\n",
    "image_path = \"F:/wesi/5.jpg\"\n",
    "\n",
    "try:\n",
    "    # Open the local image file\n",
    "    image = Image.open(image_path)\n",
    "    \n",
    "    # Extract text from the image\n",
    "    extracted_text = extract_text_from_image(image)\n",
    "    \n",
    "    # Output the extracted text\n",
    "    print(\"Extracted Text:\")\n",
    "    print(extracted_text)\n",
    "except Exception as e:\n",
    "    print(f\"Error opening image: {str(e)}\")\n"
   ]
  },
  {
   "cell_type": "code",
   "execution_count": 3,
   "id": "4368b3a3-d96c-4824-b201-7ac10d316ae5",
   "metadata": {},
   "outputs": [
    {
     "data": {
      "text/plain": [
       "['U K DRIVING LICENCE',\n",
       " '',\n",
       " 'COLOMBARI',\n",
       " 'MR SAMUEL CHARLES',\n",
       " '',\n",
       " '20.02.1998 UNITED KINGDOM',\n",
       " '08.02.2022 4c. DVLA',\n",
       " '07.02.2027',\n",
       " 'COLOM902208SC9BH 33',\n",
       " '',\n",
       " 'Seu',\n",
       " '',\n",
       " '25 SOUTHGATE, HORNSEA, HU18 1RE',\n",
       " '',\n",
       " 'AM/B/C 1/D 1/D/BE/D1E/DE/f/k/q']"
      ]
     },
     "execution_count": 3,
     "metadata": {},
     "output_type": "execute_result"
    }
   ],
   "source": [
    "# Split the text into lines for easier parsing\n",
    "lines = extracted_text.strip().split('\\n')\n",
    "lines"
   ]
  },
  {
   "cell_type": "code",
   "execution_count": 4,
   "id": "70418c25-80f2-4f80-86d3-faefd3d3a8d9",
   "metadata": {},
   "outputs": [],
   "source": [
    "# Remove empty strings from the list\n",
    "lines = [line for line in lines if line.strip()]"
   ]
  },
  {
   "cell_type": "code",
   "execution_count": 5,
   "id": "398924e7-6e81-4812-a881-c14b038b5d1e",
   "metadata": {},
   "outputs": [],
   "source": [
    "del lines[7]"
   ]
  },
  {
   "cell_type": "code",
   "execution_count": 6,
   "id": "dad6c3c1-2b83-4c38-b6a5-8c166de932a8",
   "metadata": {},
   "outputs": [
    {
     "data": {
      "text/plain": [
       "['U K DRIVING LICENCE',\n",
       " 'COLOMBARI',\n",
       " 'MR SAMUEL CHARLES',\n",
       " '20.02.1998 UNITED KINGDOM',\n",
       " '08.02.2022 4c. DVLA',\n",
       " '07.02.2027',\n",
       " 'COLOM902208SC9BH 33',\n",
       " '25 SOUTHGATE, HORNSEA, HU18 1RE',\n",
       " 'AM/B/C 1/D 1/D/BE/D1E/DE/f/k/q']"
      ]
     },
     "execution_count": 6,
     "metadata": {},
     "output_type": "execute_result"
    }
   ],
   "source": [
    "lines"
   ]
  },
  {
   "cell_type": "code",
   "execution_count": 7,
   "id": "517babac-c54d-4d30-a57f-b2a0f0ea93ab",
   "metadata": {},
   "outputs": [
    {
     "name": "stdout",
     "output_type": "stream",
     "text": [
      "{\n",
      "    \"surname\": \"COLOMBARI\",\n",
      "    \"first_name\": \"MR SAMUEL CHARLES\",\n",
      "    \"date_of_birth\": \"20.02.1998\",\n",
      "    \"place_of_birth\": \"United Kingdom\",\n",
      "    \"date_of_issue\": \"08.02.2022\",\n",
      "    \"issuing_authority\": \"DVLA\",\n",
      "    \"expiry_date\": \"07.02.2027\",\n",
      "    \"driver_number\": \"COLOM902208SC9BH 33\",\n",
      "    \"address\": \"25 SOUTHGATE, HORNSEA, HU18 1RE\",\n",
      "    \"entitlements\": \"AM/B/C 1/D 1/D/BE/D1E/DE/f/k/q\"\n",
      "}\n"
     ]
    }
   ],
   "source": [
    "import json\n",
    "\n",
    "\n",
    "\n",
    "# Extracting values from the list\n",
    "surname = lines[1].strip()\n",
    "first_name = lines[2].strip()\n",
    "date_of_birth, place_of_birth = lines[3].strip().split(' UNITED KINGDOM')\n",
    "place_of_birth = \"United Kingdom\"  # Directly set to \"United Kingdom\"\n",
    "date_of_issue, issuing_authority = lines[4].strip().split(' 4c. ')\n",
    "expiry_date = lines[5].strip()\n",
    "driver_number = lines[6].strip()\n",
    "address = lines[7].strip()\n",
    "entitlements = lines[8].strip()\n",
    "\n",
    "# Mapping the parsed data to the structured dictionary\n",
    "driving_licence_data = {\n",
    "    \"surname\": surname,\n",
    "    \"first_name\": first_name,\n",
    "    \"date_of_birth\": date_of_birth.strip(),\n",
    "    \"place_of_birth\": place_of_birth.strip(),\n",
    "    \"date_of_issue\": date_of_issue.strip(),\n",
    "    \"issuing_authority\": issuing_authority.strip(),\n",
    "    \"expiry_date\": expiry_date.strip(),\n",
    "    \"driver_number\": driver_number.strip(),\n",
    "    \"address\": address.strip(),\n",
    "    \"entitlements\": entitlements.strip()\n",
    "}\n",
    "\n",
    "# Converting dictionary to JSON\n",
    "driving_licence_json = json.dumps(driving_licence_data, indent=4)\n",
    "\n",
    "# Output the JSON format\n",
    "print(driving_licence_json)\n"
   ]
  },
  {
   "cell_type": "code",
   "execution_count": null,
   "id": "8d45ed12-3b70-49ef-8e53-a7b44b55e73a",
   "metadata": {},
   "outputs": [],
   "source": []
  }
 ],
 "metadata": {
  "kernelspec": {
   "display_name": "Python 3 (ipykernel)",
   "language": "python",
   "name": "python3"
  },
  "language_info": {
   "codemirror_mode": {
    "name": "ipython",
    "version": 3
   },
   "file_extension": ".py",
   "mimetype": "text/x-python",
   "name": "python",
   "nbconvert_exporter": "python",
   "pygments_lexer": "ipython3",
   "version": "3.12.3"
  }
 },
 "nbformat": 4,
 "nbformat_minor": 5
}
